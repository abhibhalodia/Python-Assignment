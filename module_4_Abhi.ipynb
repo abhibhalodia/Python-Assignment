{
 "cells": [
  {
   "cell_type": "code",
   "execution_count": 1,
   "id": "1eca6d99",
   "metadata": {},
   "outputs": [],
   "source": [
    "# Q. 1 What is File function in python? What is keywords to create and write file.\n",
    "# ANS.\n",
    "#     This function returns a file object, also called a handle, as it is used to read or modify the file accordingly. \n",
    "#     keywords is \"w\""
   ]
  },
  {
   "cell_type": "code",
   "execution_count": 5,
   "id": "9b87f602",
   "metadata": {},
   "outputs": [
    {
     "name": "stdout",
     "output_type": "stream",
     "text": [
      "i am Abhi.\n"
     ]
    }
   ],
   "source": [
    "# Q. 2 Write a Python program to read an entire text file.\n",
    "# ANS.\n",
    "f = open(\"abhi.txt\",\"r\")\n",
    "print(f.read())"
   ]
  },
  {
   "cell_type": "code",
   "execution_count": 25,
   "id": "b5615a44",
   "metadata": {},
   "outputs": [
    {
     "name": "stdout",
     "output_type": "stream",
     "text": [
      "there is a cow.\n",
      "cow eats grassthere is a cow. /n cow eats grass\n"
     ]
    }
   ],
   "source": [
    "# Q. 3 Write a Python program to append text to a file and display the text.\n",
    "# ANS.\n",
    "\n",
    "with open('abhi.txt','a') as file_1:\n",
    "    file_1.write('there is a cow. /n cow eats grass')\n",
    "with open('abhi.txt','r')as file_1:\n",
    "    print(file_1.read())"
   ]
  },
  {
   "cell_type": "code",
   "execution_count": 26,
   "id": "b45cdfd7",
   "metadata": {},
   "outputs": [
    {
     "name": "stdout",
     "output_type": "stream",
     "text": [
      "['there is a cow.\\n', 'cow eats grassthere is a cow. /n cow eats grass']\n"
     ]
    }
   ],
   "source": [
    "# Q. 4 Write a Python program to read first n lines of a file.\n",
    "# ANS\n",
    "with open ('abhi.txt','r') as f1 :\n",
    "    print(f1.readlines())"
   ]
  },
  {
   "cell_type": "code",
   "execution_count": 27,
   "id": "2ab07d5a",
   "metadata": {},
   "outputs": [
    {
     "name": "stdout",
     "output_type": "stream",
     "text": [
      "cow eats grassthere is a cow. /n cow eats grass"
     ]
    }
   ],
   "source": [
    "# Q. 5 Write a Python program to read last n lines of a file.\n",
    "# ANS.\n",
    "N = 1\n",
    "with open ('abhi.txt','r') as file :\n",
    "    for line in (file.readlines() [-N:]):\n",
    "        print(line, end ='')\n",
    "        break"
   ]
  },
  {
   "cell_type": "code",
   "execution_count": 60,
   "id": "ba6b9c47",
   "metadata": {},
   "outputs": [
    {
     "name": "stdout",
     "output_type": "stream",
     "text": [
      "['i am Abhi.\\n']\n",
      "['i am study in tops.']\n"
     ]
    }
   ],
   "source": [
    "# Q. 6 Write a Python program to read a file line by line and store it into a list\n",
    "# ANS.\n",
    "with open ('abhi.txt','r') as file :\n",
    "    for line in (file.readlines()):\n",
    "        print([line])\n",
    "        "
   ]
  },
  {
   "cell_type": "code",
   "execution_count": 62,
   "id": "adbec349",
   "metadata": {},
   "outputs": [
    {
     "name": "stdout",
     "output_type": "stream",
     "text": [
      "i am Abhi.\n",
      "i am study in tops.\n"
     ]
    }
   ],
   "source": [
    "# Q. 7 Write a Python program to read a file line by line store it into a variable.\n",
    "# ANS.\n",
    "var_1 = ''\n",
    "with open ('abhi.txt','r') as file :\n",
    "    for line in (file.readlines()):\n",
    "        var_1 += line\n",
    "    print(var_1)\n",
    "        "
   ]
  },
  {
   "cell_type": "code",
   "execution_count": 14,
   "id": "6df10229",
   "metadata": {},
   "outputs": [
    {
     "name": "stdout",
     "output_type": "stream",
     "text": [
      "5\n"
     ]
    }
   ],
   "source": [
    "# Q. 8 Write a python program to find the longest words.\n",
    "# ANS. \n",
    "list_1 = []\n",
    "with open ('abhi.txt','r') as file :\n",
    "    words = file.read().split()\n",
    "for i in words:\n",
    "    list_1.append(len(i))\n",
    "list_1.sort()\n",
    "print(list_1[-1])"
   ]
  },
  {
   "cell_type": "code",
   "execution_count": 3,
   "id": "87f1e3bb",
   "metadata": {},
   "outputs": [
    {
     "name": "stdout",
     "output_type": "stream",
     "text": [
      "3\n"
     ]
    }
   ],
   "source": [
    "# Q. 9 Write a Python program to count the number of lines in a text file.\n",
    "var_1 = 1\n",
    "with open ('abhi.txt','r') as file :\n",
    "    for line in (file.readlines()):\n",
    "        var_1 += 1\n",
    "    print(var_1)"
   ]
  },
  {
   "cell_type": "code",
   "execution_count": 17,
   "id": "d2b017fe",
   "metadata": {},
   "outputs": [
    {
     "name": "stdout",
     "output_type": "stream",
     "text": [
      "tops. 1\n",
      "i 2\n",
      "am 2\n",
      "in 1\n",
      "cow. 1\n",
      "is 1\n",
      "study 1\n",
      "a 1\n",
      "Abhi. 1\n",
      "thery 1\n"
     ]
    }
   ],
   "source": [
    "# Q. 10 Write a Python program to count the frequency of words in a file\n",
    "with open ('abhi.txt','r') as file :\n",
    "    words = file.read().split()\n",
    "set_1 = set(words)\n",
    "for i in set_1:\n",
    "    print(i,words.count(i))"
   ]
  },
  {
   "cell_type": "code",
   "execution_count": 21,
   "id": "35143c94",
   "metadata": {},
   "outputs": [
    {
     "name": "stdout",
     "output_type": "stream",
     "text": [
      "<_io.TextIOWrapper name='abhi.txt' mode='a' encoding='cp1252'>\n"
     ]
    }
   ],
   "source": [
    "# Q. 11 Write a Python program to write a list to a file.\n",
    "# ANS. \n",
    "list_1 = []\n",
    "list_2 = []\n",
    "with open('abhi.txt','a') as file :\n",
    "    for i in list_1:\n",
    "print(file)"
   ]
  },
  {
   "cell_type": "code",
   "execution_count": 45,
   "id": "bfbb5617",
   "metadata": {},
   "outputs": [],
   "source": [
    "# Q. 12 Write a Python program to copy the contents of a file to another file.\n",
    "with open ('abhi.txt','w') as file :\n",
    "    a1 = file.write."
   ]
  },
  {
   "cell_type": "code",
   "execution_count": 46,
   "id": "9ceb36cc",
   "metadata": {},
   "outputs": [],
   "source": [
    "# Q. 13 Explain Exception handling? What is an Error in Python?\n",
    "# ANS.\n",
    "#     An Exception is an error that happens during the execution of a program.\n",
    "#     errors are the problems in a program due to which the program will stop the execution. "
   ]
  },
  {
   "cell_type": "code",
   "execution_count": 47,
   "id": "fa928fbd",
   "metadata": {},
   "outputs": [],
   "source": [
    "# Q. 14 How many except statements can a try-except block have? Name Some built-in exception classes:\n",
    "# ANS. \n",
    "#     Try - except block have minimum 1 except statement and maximum no limit . AssertionError, AttributeError, EOFError etc... "
   ]
  },
  {
   "cell_type": "code",
   "execution_count": 48,
   "id": "f0b97b69",
   "metadata": {},
   "outputs": [],
   "source": [
    "# Q. 15 When will the else part of try-except-else be executed?\n",
    "# ANS. \n"
   ]
  },
  {
   "cell_type": "code",
   "execution_count": 50,
   "id": "e2181994",
   "metadata": {},
   "outputs": [],
   "source": [
    "# Q. 16 Can one block of except statements handle multiple exception?\n",
    "# ANS.\n",
    "#     no one block of except statement handle onley one exception."
   ]
  },
  {
   "cell_type": "code",
   "execution_count": 28,
   "id": "0afa3bdb",
   "metadata": {},
   "outputs": [],
   "source": [
    "# Q. 17 When is the finally block executed?\n",
    "# ANS. \n",
    "#     finally block is always executed after leaving the try statement."
   ]
  },
  {
   "cell_type": "code",
   "execution_count": 29,
   "id": "672f3fb9",
   "metadata": {},
   "outputs": [],
   "source": [
    "# Q. 18 What happens when „1‟== 1 is executed?\n",
    "# ANS.\n",
    "#     we get False."
   ]
  },
  {
   "cell_type": "code",
   "execution_count": 73,
   "id": "8a92a917",
   "metadata": {},
   "outputs": [
    {
     "name": "stdout",
     "output_type": "stream",
     "text": [
      "10\n",
      "1.0\n",
      "10 this is a\n"
     ]
    }
   ],
   "source": [
    "# Q. 19 How Do You Handle Exceptions With Try/Except/Finally In Python? Explain with coding snippets.\n",
    "# ANS.\n",
    "# example:\n",
    "try:\n",
    "    a = int(input())\n",
    "    print(10/a)\n",
    "except ZeroDivisionError:\n",
    "    print('you have enter zero,enter non zero number')\n",
    "    a = int(input)\n",
    "    print(10/a)\n",
    "finally:\n",
    "    print(a ,'this is a')"
   ]
  },
  {
   "cell_type": "code",
   "execution_count": 31,
   "id": "7692fac8",
   "metadata": {},
   "outputs": [],
   "source": [
    "# Q. 20 Write python program that user to enter only odd numbers, else will raise an exception.\n"
   ]
  },
  {
   "cell_type": "code",
   "execution_count": 32,
   "id": "058c3680",
   "metadata": {},
   "outputs": [],
   "source": [
    "# Q. 21 What are oops concepts? Is multiple inheritance supported in java\n",
    "# ANS.\n",
    "#    Major OOP concepts in Python include Class, Object, Method, Inheritance, Polymorphism, Data Abstraction, and Encapsulation.\n",
    "#     "
   ]
  },
  {
   "cell_type": "code",
   "execution_count": 70,
   "id": "9d76d55c",
   "metadata": {},
   "outputs": [
    {
     "data": {
      "text/plain": [
       "'Dharuka'"
      ]
     },
     "execution_count": 70,
     "metadata": {},
     "output_type": "execute_result"
    }
   ],
   "source": [
    "# Q. 22 How to Define a Class in Python? What Is Self? Give An Example Of A Python Class\n",
    "# ANS. \n",
    "# class is define inpython use with class .\n",
    "# self points to the current instance of the class.\n",
    "# example:\n",
    "class Student:\n",
    "    school_name = 'Dharuka'\n",
    "\n",
    "s1 = Student()\n",
    "s1.school_name"
   ]
  },
  {
   "cell_type": "code",
   "execution_count": 34,
   "id": "13c2d12d",
   "metadata": {},
   "outputs": [],
   "source": [
    "# Q. 23 Write a Python class named Rectangle constructed by a length and width \n",
    "# and a method which will compute the area of a rectangle\n"
   ]
  },
  {
   "cell_type": "code",
   "execution_count": 35,
   "id": "caefed2e",
   "metadata": {},
   "outputs": [],
   "source": [
    "# Q. 24 Write a Python class named Circle constructed by a radius and two \n",
    "# methods which will compute the area and the perimeter of a circle"
   ]
  },
  {
   "cell_type": "code",
   "execution_count": 37,
   "id": "4e418c79",
   "metadata": {},
   "outputs": [],
   "source": [
    "# Q. 25 Explain Inheritance in Python with an example? What is init? Or What Is A Constructor In Python?\n",
    "# ANS.\n",
    "#     Inheritance relationship defines the classes that inherit from other classes as derived, subclass, or sub-type classes.\n",
    "#     init is a megic method or dunder method .\n",
    "#     A constructor is a special type of method (function) which is used to initialize the instance members of the class."
   ]
  },
  {
   "cell_type": "code",
   "execution_count": 71,
   "id": "99de53af",
   "metadata": {},
   "outputs": [],
   "source": [
    "# Q. 26 What is Instantiation in terms of OOP terminology? \n",
    "# ANS. \n",
    "#     the processes of creating a new object for a class using a new keyword."
   ]
  },
  {
   "cell_type": "code",
   "execution_count": 40,
   "id": "c5342d6e",
   "metadata": {},
   "outputs": [],
   "source": [
    "# Q. 27 What is used to check whether an object o is an instance of class A?\n",
    "# ANS.\n",
    "#     Using isinstance() function."
   ]
  },
  {
   "cell_type": "code",
   "execution_count": 42,
   "id": "8c351d1c",
   "metadata": {},
   "outputs": [],
   "source": [
    "# Q. 28 What relationship is appropriate for Course and Faculty?\n",
    "# ANS.\n",
    "#      "
   ]
  },
  {
   "cell_type": "code",
   "execution_count": null,
   "id": "bcf1118f",
   "metadata": {},
   "outputs": [],
   "source": [
    "# Q. 29 What relationship is appropriate for Student and Person?"
   ]
  }
 ],
 "metadata": {
  "kernelspec": {
   "display_name": "Python 3 (ipykernel)",
   "language": "python",
   "name": "python3"
  },
  "language_info": {
   "codemirror_mode": {
    "name": "ipython",
    "version": 3
   },
   "file_extension": ".py",
   "mimetype": "text/x-python",
   "name": "python",
   "nbconvert_exporter": "python",
   "pygments_lexer": "ipython3",
   "version": "3.9.12"
  }
 },
 "nbformat": 4,
 "nbformat_minor": 5
}
