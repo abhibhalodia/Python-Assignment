{
 "cells": [
  {
   "cell_type": "code",
   "execution_count": null,
   "id": "30afe3dc",
   "metadata": {},
   "outputs": [],
   "source": [
    "# Q. (1)\n",
    "# What is List? How will you reverse a list?\n",
    "# ANS.\n",
    "#     list is a one type of collection of iteams or elements. \n",
    "#     we will reverse a list whith the hepl of reverse function."
   ]
  },
  {
   "cell_type": "code",
   "execution_count": null,
   "id": "d39e2bf5",
   "metadata": {},
   "outputs": [],
   "source": [
    "# Q. (2)\n",
    "# How will you remove last object from a list?\n",
    "# ANS.\n",
    "#     we will remove lest object from a list whith the help of pop function.\n",
    "#     EG.:- list.pop()"
   ]
  },
  {
   "cell_type": "code",
   "execution_count": null,
   "id": "f4802880",
   "metadata": {},
   "outputs": [],
   "source": [
    "# Q. (3)\n",
    "# Suppose list1 is [2, 33, 222, 14, and 25], what is list1 [-1]?\n",
    "# ANS.\n",
    "#     list1[-1] is syntax error."
   ]
  },
  {
   "cell_type": "code",
   "execution_count": null,
   "id": "6e7de548",
   "metadata": {},
   "outputs": [],
   "source": [
    "# Q. (4) \n",
    "# Differentiate between append () and extend () methods?\n",
    "# ANS.\n",
    "#     meajor difference between append and extend is append take a argument as a singal element in the end of list \n",
    "#     and extend will take it etrables as an argument and it will appent element one by one. "
   ]
  },
  {
   "cell_type": "code",
   "execution_count": 2,
   "id": "ab5fcc60",
   "metadata": {},
   "outputs": [
    {
     "name": "stdout",
     "output_type": "stream",
     "text": [
      "smallest number 1 largest number 95\n",
      "sum of all list is 394\n"
     ]
    }
   ],
   "source": [
    "# Q. 5\n",
    "# Write a Python function to get the largest number, smallest num and sum \n",
    "# of all from a list.\n",
    "#ANS.\n",
    "\n",
    "list1 = [11,45,25,36,95,84,71,14,12,1]\n",
    "sum_num = 0\n",
    "list1.sort()\n",
    "print('smallest number',list1[0]  ,'largest number', list1[-1])\n",
    "\n",
    "for i in list1 :\n",
    "    sum_num += i\n",
    "print('sum of all list is',sum_num)"
   ]
  },
  {
   "cell_type": "code",
   "execution_count": 2,
   "id": "726fa535",
   "metadata": {},
   "outputs": [],
   "source": [
    "# Q.6\n",
    "# How will you compare two lists?\n",
    "#ANS.\n",
    "    # we will compare two lists with use == operator.b"
   ]
  },
  {
   "cell_type": "code",
   "execution_count": 71,
   "id": "bc177140",
   "metadata": {},
   "outputs": [
    {
     "name": "stdout",
     "output_type": "stream",
     "text": [
      "3 string is there\n"
     ]
    }
   ],
   "source": [
    "# Q. 7\n",
    "# Write a Python program to count the number of strings where the string \n",
    "# length is 2 or more and the first and last character are same from a given \n",
    "# list of strings.\n",
    "#ANS.\n",
    "\n",
    "list1 = ['abhi', 'rrr', 'bob','aa']\n",
    "l2 = []\n",
    "for i in list1 :\n",
    "    if type(i) == str and len(i) >= 2 and i[0] == i[-1]:\n",
    "        l2 += i,\n",
    "print(len(l2),'string is there')"
   ]
  },
  {
   "cell_type": "code",
   "execution_count": 96,
   "id": "6f4cf67a",
   "metadata": {},
   "outputs": [
    {
     "name": "stdout",
     "output_type": "stream",
     "text": [
      "[1, 2, 3, 5, 8]\n"
     ]
    }
   ],
   "source": [
    "# Q. 8\n",
    "# Write a Python program to remove duplicates from a list.\n",
    "# ANS.\n",
    "\n",
    "list_input = [1,2,3,5,5,8]\n",
    "finel_list = []\n",
    "for num in list_input :\n",
    "    if num not in finel_list :\n",
    "        finel_list.append(num)\n",
    "print(finel_list)"
   ]
  },
  {
   "cell_type": "code",
   "execution_count": 31,
   "id": "6b7aafe0",
   "metadata": {},
   "outputs": [
    {
     "name": "stdout",
     "output_type": "stream",
     "text": [
      "list1 is empty list\n"
     ]
    }
   ],
   "source": [
    "# Q. 9 \n",
    "#  Write a Python program to check a list is empty or not.\n",
    "# ANS.\n",
    "\n",
    "list1 = []\n",
    "if len(list1) == 0 :\n",
    "    print('list1 is empty list')\n",
    "else:\n",
    "    print('list1 is not empty')\n"
   ]
  },
  {
   "cell_type": "code",
   "execution_count": 43,
   "id": "ffcf0ac9",
   "metadata": {},
   "outputs": [
    {
     "name": "stdout",
     "output_type": "stream",
     "text": [
      "true\n"
     ]
    }
   ],
   "source": [
    "# Q. 10\n",
    "# Write a Python function that takes two lists and returns true if they have \n",
    "# at least one common member.\n",
    "# ANS.\n",
    "\n",
    "list1 = [1,2,3,4]\n",
    "list2 = [5,6,7,1]\n",
    "\n",
    "for num in list1 :\n",
    "    pass\n",
    "    if num in list2 :\n",
    "        print('true')"
   ]
  },
  {
   "cell_type": "code",
   "execution_count": 7,
   "id": "9f19f58c",
   "metadata": {},
   "outputs": [
    {
     "name": "stdout",
     "output_type": "stream",
     "text": [
      "[1, 2, 3, 4, 5]\n",
      "[5, 4, 3, 2, 1]\n"
     ]
    }
   ],
   "source": [
    "# Q. 11\n",
    "# Write a Python program to generate and print a list of first and last 5 \n",
    "# elements where the values are square of numbers between 1 and 30.\n",
    "\n",
    "# ANS.\n",
    "\n",
    "list1 = [1,2,3,4,5]\n",
    "first_l = list1[:5]\n",
    "last_l = list1[-1:-6:-1]\n",
    "new_l1 = []\n",
    "new_l2 = []\n",
    "\n",
    "for i in first_l :\n",
    "    square = i*i\n",
    "    if square <= 30 : \n",
    "        new_l1 += i,\n",
    "print(new_l1)\n",
    "\n",
    "for k in last_l :\n",
    "    square2 = k*k\n",
    "    if square2 <= 30 : \n",
    "        new_l2 += k,\n",
    "print(new_l2)"
   ]
  },
  {
   "cell_type": "code",
   "execution_count": null,
   "id": "147baba4",
   "metadata": {},
   "outputs": [],
   "source": [
    "# Q. 12\n",
    "#Write a Python function that takes a list and returns a new list with unique \n",
    "# elements of the first list.\n",
    "# ANS.\n",
    "\n",
    "list1 = [1,2,3,4,5,6]\n",
    "list2 = [7,8,9,10]\n",
    "list1.extend(list2)\n",
    "print(list1)"
   ]
  },
  {
   "cell_type": "code",
   "execution_count": 95,
   "id": "2563b3ff",
   "metadata": {},
   "outputs": [
    {
     "name": "stdout",
     "output_type": "stream",
     "text": [
      "<class 'str'>\n",
      "12345\n",
      "<class 'str'>\n"
     ]
    }
   ],
   "source": [
    "# Q. 13\n",
    "# Write a Python program to convert a list of characters into a string.\n",
    "# ANS.\n",
    "\n",
    "l1 = [1,2,3,4,5]\n",
    "str_list = ''\n",
    "for i in l1 :\n",
    "    str_list += str(i)\n",
    "print(str_list)"
   ]
  },
  {
   "cell_type": "code",
   "execution_count": 61,
   "id": "b0ca8efa",
   "metadata": {},
   "outputs": [
    {
     "name": "stdout",
     "output_type": "stream",
     "text": [
      "2\n",
      "3\n"
     ]
    }
   ],
   "source": [
    "# Q. 14\n",
    "# Write a Python program to select an item randomly from a list.\n",
    "# ANS.\n",
    "\n",
    "number = int(input())\n",
    "list1 = [1,2,3,4,5,6]\n",
    "num = list1[number]\n",
    "print(num)"
   ]
  },
  {
   "cell_type": "code",
   "execution_count": 67,
   "id": "b3d7ca13",
   "metadata": {},
   "outputs": [
    {
     "name": "stdout",
     "output_type": "stream",
     "text": [
      "5\n"
     ]
    }
   ],
   "source": [
    "# Q.15\n",
    "# Write a Python program to find the second smallest number in a list.\n",
    "#ANS.\n",
    "\n",
    "list1 = [9,85,1,56,5,25,35,14,10,25,6]\n",
    "list1.sort()\n",
    "num = list1[1]\n",
    "print(num)"
   ]
  },
  {
   "cell_type": "code",
   "execution_count": 77,
   "id": "2a5cf3c2",
   "metadata": {},
   "outputs": [
    {
     "name": "stdout",
     "output_type": "stream",
     "text": [
      "1\n",
      "5\n",
      "7\n"
     ]
    }
   ],
   "source": [
    "# Q. 16\n",
    "# Write a Python program to get unique values from a list\n",
    "#ANS.\n",
    "\n",
    "l1 = [1,22,33,444,5,666,7]\n",
    "for i in l1 :\n",
    "    if len(str(i)) == 1 :\n",
    "        print(i)\n",
    "        "
   ]
  },
  {
   "cell_type": "code",
   "execution_count": 80,
   "id": "2a63098a",
   "metadata": {},
   "outputs": [
    {
     "name": "stdout",
     "output_type": "stream",
     "text": [
      "[1, 2, 3] is sub list\n",
      "[20, 21] is sub list\n"
     ]
    }
   ],
   "source": [
    "# Q. 17\n",
    "# Write a Python program to check whether a list contains a sub list\n",
    "#ANS.\n",
    "\n",
    "l1 = [1,2,3,[1,2,3],4,2,[20,21]]\n",
    "for i in l1 :\n",
    "    if type(i) == list :\n",
    "        print(i,'is sub list')"
   ]
  },
  {
   "cell_type": "code",
   "execution_count": 84,
   "id": "18194c35",
   "metadata": {},
   "outputs": [
    {
     "name": "stdout",
     "output_type": "stream",
     "text": [
      "[1, 2, 3] [4, 5, 6]\n"
     ]
    }
   ],
   "source": [
    "# Q. 18\n",
    "# Write a Python program to split a list into different variables.\n",
    "#ANS.\n",
    "\n",
    "list1 = [1,2,3,4,5,6]\n",
    "\n",
    "l1 = list1[:(len(list1)//2)]\n",
    "l2 = list1[(len(list1)//2):]\n",
    "\n",
    "print(l1 , l2)"
   ]
  },
  {
   "cell_type": "code",
   "execution_count": null,
   "id": "e406a87c",
   "metadata": {},
   "outputs": [],
   "source": [
    "# Q. 19\n",
    "# What is tuple? Difference between list and tuple.\n",
    "#ANS.\n",
    "#     tuple is a one type of collection of iteams or elements. \n",
    "#     difference between list and tuple is, list is mutable but tupel is immutable."
   ]
  },
  {
   "cell_type": "code",
   "execution_count": 2,
   "id": "3e7e59ab",
   "metadata": {},
   "outputs": [
    {
     "name": "stdout",
     "output_type": "stream",
     "text": [
      "([1, 2, 3, 4], {1, 2, 3}, 'python', {'a': 10, 'b': 20})\n"
     ]
    }
   ],
   "source": [
    "# Q. 20\n",
    "# Write a Python program to create a tuple with different data types.\n",
    "#ANS.\n",
    "\n",
    "list = [1,2,3,4]\n",
    "set = {1,2,3}\n",
    "a = 'python'\n",
    "dict = {'a' : 10, 'b' : 20}\n",
    "\n",
    "tuple = (list,set,a,dict)\n",
    "print(tuple)"
   ]
  },
  {
   "cell_type": "code",
   "execution_count": 12,
   "id": "bcd32e70",
   "metadata": {},
   "outputs": [
    {
     "name": "stdout",
     "output_type": "stream",
     "text": [
      "(1, 2, 3, 25, 74, 65, 95)\n"
     ]
    }
   ],
   "source": [
    "# Q. 21\n",
    "# Write a Python program to create a tuple with numbers.\n",
    "#ANS.\n",
    "\n",
    "tuple = 1,2,3,25,74,65,95\n",
    "print(tuple)"
   ]
  },
  {
   "cell_type": "code",
   "execution_count": 3,
   "id": "f8d62202",
   "metadata": {},
   "outputs": [
    {
     "name": "stdout",
     "output_type": "stream",
     "text": [
      "1234567\n"
     ]
    }
   ],
   "source": [
    "# Q. 22\n",
    "# Write a Python program to convert a tuple to a string.\n",
    "#ANS.\n",
    "\n",
    "tuple = (1,2,3,4,5,6,7)\n",
    "str_val = ''\n",
    " \n",
    "for a in tuple :\n",
    "    str_val += str(a)\n",
    "print(str_val)"
   ]
  },
  {
   "cell_type": "code",
   "execution_count": 8,
   "id": "74b2d357",
   "metadata": {},
   "outputs": [
    {
     "name": "stdout",
     "output_type": "stream",
     "text": [
      "7\n",
      "7 element is not in tuple\n"
     ]
    }
   ],
   "source": [
    "# Q. 23\n",
    "# Write a Python program to check whether an element exists within a tuple.\n",
    "#ANS.\n",
    "\n",
    "tuple = (1,2,3,4,5,6)\n",
    "num = int(input())\n",
    "\n",
    "count = tuple.count(num)\n",
    "if count != 0 :\n",
    "    print(num,'element is in tuple')\n",
    "else :\n",
    "    print(num,'element is not in tuple')"
   ]
  },
  {
   "cell_type": "code",
   "execution_count": 9,
   "id": "9f8f7f05",
   "metadata": {},
   "outputs": [
    {
     "name": "stdout",
     "output_type": "stream",
     "text": [
      "6\n"
     ]
    }
   ],
   "source": [
    "# Q. 24\n",
    "# Write a Python program to find the length of a tuple.\n",
    "#ANS.\n",
    "\n",
    "tuple = (1,2,3,4,5,6)\n",
    "\n",
    "lenth = len(tuple)\n",
    "print(lenth)"
   ]
  },
  {
   "cell_type": "code",
   "execution_count": 11,
   "id": "1cc6514d",
   "metadata": {},
   "outputs": [
    {
     "name": "stdout",
     "output_type": "stream",
     "text": [
      "[1, 2, 3, 4, 5, 6]\n"
     ]
    }
   ],
   "source": [
    "# Q. 25\n",
    "# Write a Python program to convert a list to a tuple.\n",
    "#ANS.\n",
    "\n",
    "tuple = (1,2,3,4,5,6)\n",
    "\n",
    "list1 = list(tuple)\n",
    "print(list1)"
   ]
  },
  {
   "cell_type": "code",
   "execution_count": 12,
   "id": "f59372dc",
   "metadata": {},
   "outputs": [
    {
     "name": "stdout",
     "output_type": "stream",
     "text": [
      "(6, 5, 4, 3, 2, 1)\n"
     ]
    }
   ],
   "source": [
    "# Q. 26\n",
    "# Write a Python program to reverse a tuple.\n",
    "#ANS.\n",
    "\n",
    "tuple = (1,2,3,4,5,6)\n",
    "\n",
    "tuple2 = tuple[-1::-1]\n",
    "print(tuple2)"
   ]
  },
  {
   "cell_type": "code",
   "execution_count": 3,
   "id": "1d5af898",
   "metadata": {},
   "outputs": [
    {
     "name": "stdout",
     "output_type": "stream",
     "text": [
      "[1, 2, 5, 8, 9, 36, 6]\n"
     ]
    }
   ],
   "source": [
    "# Q. 27\n",
    "# Write a Python program to replace last value of tuples in a list.\n",
    "#ANS.\n",
    "\n",
    "t1 = (1,2,5,8,9,36,6)\n",
    "l1 = []\n",
    "\n",
    "for i in t1:\n",
    "    l1.append(i)\n",
    "print(l1)"
   ]
  },
  {
   "cell_type": "code",
   "execution_count": 9,
   "id": "a7d9bc4f",
   "metadata": {},
   "outputs": [
    {
     "name": "stdout",
     "output_type": "stream",
     "text": [
      "1 element is repeated 3 times\n",
      "2 element is repeated 2 times\n",
      "3 element is not repeated\n",
      "4 element is repeated 2 times\n",
      "5 element is repeated 2 times\n",
      "6 element is not repeated\n"
     ]
    }
   ],
   "source": [
    "# Q. 28\n",
    "# Write a Python program to find the repeated items of a tuple.\n",
    "#ANS.\n",
    "\n",
    "tuple_1 = (1,2,3,4,5,6,1,2,4,1,5)\n",
    "set_1 = set(tuple)\n",
    "\n",
    "for a in set_1 :\n",
    "    count = tuple_1.count(a)\n",
    "    if count > 1 :\n",
    "        print(a,'element is repeated',count,'times')\n",
    "    else :\n",
    "        print(a,'element is not repeated')"
   ]
  },
  {
   "cell_type": "code",
   "execution_count": 5,
   "id": "88c1b243",
   "metadata": {},
   "outputs": [
    {
     "name": "stdout",
     "output_type": "stream",
     "text": [
      "[('abhi',), (1, 2, 3), (12, 45), (1, 2, 3)]\n"
     ]
    }
   ],
   "source": [
    "# Q. 29\n",
    "# Write a Python program to remove an empty tuple(s) from a list of tuples.\n",
    "#ANS.\n",
    "\n",
    "list_1 = [('abhi',),(1,2,3),(12,45),(),(),(1,2,3)]\n",
    "list_2 = []\n",
    "\n",
    "for i in list_1 :\n",
    "    if len(i) >= 1 :\n",
    "        list_2.append(i)\n",
    "print(list_2)"
   ]
  },
  {
   "cell_type": "code",
   "execution_count": 4,
   "id": "2903188d",
   "metadata": {},
   "outputs": [
    {
     "name": "stdout",
     "output_type": "stream",
     "text": [
      "[(1, 2, 3)]\n",
      "[('abhi', 'himanshu')]\n",
      "[(20, 58, 90, 20)]\n"
     ]
    }
   ],
   "source": [
    "# Q. 30\n",
    "# Write a Python program to unzip a list of tuples into individual lists.\n",
    "#ANS\n",
    "\n",
    "l1 = [(1,2,3), ('abhi','himanshu'), (20,58,90,20)]\n",
    "for tuples in l1 :\n",
    "    print([tuples])"
   ]
  },
  {
   "cell_type": "code",
   "execution_count": 1,
   "id": "54d7ee04",
   "metadata": {},
   "outputs": [
    {
     "name": "stdout",
     "output_type": "stream",
     "text": [
      "{12: 12, 10: 12, 14: 52, 30: 21}\n"
     ]
    }
   ],
   "source": [
    "# Q. 31\n",
    "# Write a Python program to convert a list of tuples into a dictionary.\n",
    "# ANS.\n",
    "\n",
    "list_1 = [(12,12),(10,12),(14,52),(30,21)]\n",
    "d1 = dict(list_1)\n",
    "print(d1)"
   ]
  },
  {
   "cell_type": "code",
   "execution_count": 15,
   "id": "9f098e14",
   "metadata": {},
   "outputs": [],
   "source": [
    "# Q. 32\n",
    "# How will you create a dictionary using tuples in python?\n",
    "# ANS.\n",
    "# we used a dict() method and passed the dictionary comprehension as an argument to create a dictionary.\n"
   ]
  },
  {
   "cell_type": "code",
   "execution_count": 12,
   "id": "150ab4fb",
   "metadata": {},
   "outputs": [
    {
     "name": "stdout",
     "output_type": "stream",
     "text": [
      "{7: 'd', 8: 'd', 9: 'd', 10: 'd'}\n"
     ]
    }
   ],
   "source": [
    "# Q. 33\n",
    "# Write a Python script to sort (ascending and descending) a dictionary by value.\n",
    "#ANS.\n",
    "\n",
    "dict = {'a' : 10, 'b' : 9, 'c' : 8, 'd' : 7}\n",
    "a = list ( dict.values())\n",
    "a.sort()\n",
    "for b in dict:\n",
    "    b = dict.fromkeys(a,b)\n",
    "print(b)"
   ]
  },
  {
   "cell_type": "code",
   "execution_count": 62,
   "id": "fa3163ae",
   "metadata": {},
   "outputs": [
    {
     "name": "stdout",
     "output_type": "stream",
     "text": [
      "{'a': 1, 'b': 2, 'c': 3, 'd': 4}\n"
     ]
    }
   ],
   "source": [
    "# Q. 34\n",
    "# Write a Python script to concatenate following dictionaries to create a new one.\n",
    "#ANS.\n",
    "\n",
    "d1 = {'a':1,'b':2}\n",
    "d2 = {'c':3,'d':4}\n",
    "d3 = {}\n",
    "d3.update(d1)\n",
    "d3.update(d2)\n",
    "print(d3)"
   ]
  },
  {
   "cell_type": "code",
   "execution_count": 96,
   "id": "4b746c3e",
   "metadata": {},
   "outputs": [
    {
     "name": "stdout",
     "output_type": "stream",
     "text": [
      "a\n",
      "a is already exists in a dictionary\n"
     ]
    }
   ],
   "source": [
    "# Q. 35\n",
    "# Write a Python script to check if a given key already exists in a dictionary.\n",
    "#ANS.\n",
    "\n",
    "dict = {'a' : 10 ,'b' : 20, 'c' : 5, 'd' :8, 'e' : 3}\n",
    "given_key = input()\n",
    "key = dict.keys()\n",
    "if given_key in  key:\n",
    "    print(given_key , 'is already exists in a dictionary')\n",
    "else :\n",
    "    print(given_key, 'is not exists in a dictionary')"
   ]
  },
  {
   "cell_type": "code",
   "execution_count": 37,
   "id": "85455909",
   "metadata": {},
   "outputs": [
    {
     "name": "stdout",
     "output_type": "stream",
     "text": [
      "{'a': 10, 'b': 20, 'c': 30}\n"
     ]
    }
   ],
   "source": [
    "# Q.36\n",
    "# How Do You Traverse Through A Dictionary Object In Python?\n",
    "#ANS.\n",
    "#     we can use dictionary keys()method or use a loops ,or other dictionary method like items(),values()"
   ]
  },
  {
   "cell_type": "code",
   "execution_count": 33,
   "id": "9c1debc5",
   "metadata": {},
   "outputs": [
    {
     "name": "stdout",
     "output_type": "stream",
     "text": [
      "f\n",
      "f key is not presence\n"
     ]
    }
   ],
   "source": [
    "# Q. 37\n",
    "# How Do You Check The Presence Of A Key In A Dictionary?\n",
    "#ANS.\n",
    "\n",
    "key_input = input()\n",
    "dict_1 = {'a' : 10 ,'b' : 20, 'c' : 5, 'd' :8, 'e' : 3}\n",
    "\n",
    "if key_input in dict_1 :\n",
    "    print(key_input, 'key is presence')\n",
    "else :\n",
    "    print(key_input, 'key is not presence')"
   ]
  },
  {
   "cell_type": "code",
   "execution_count": 55,
   "id": "acc5e430",
   "metadata": {},
   "outputs": [
    {
     "name": "stdout",
     "output_type": "stream",
     "text": [
      "{1: 10, 2: 10, 3: 10, 4: 10, 5: 10, 6: 10, 7: 10, 8: 10, 9: 10, 10: 10, 11: 10, 12: 10, 13: 10, 14: 10, 15: 10}\n"
     ]
    }
   ],
   "source": [
    "# Q. 38\n",
    "# Write a Python script to print a dictionary where the keys are numbers between 1 and 15.\n",
    "#ANS.\n",
    "\n",
    "dict1 = {}\n",
    "dict1 = dict1.fromkeys((range(1,16)),10)\n",
    "print(dict1)\n"
   ]
  },
  {
   "cell_type": "code",
   "execution_count": 1,
   "id": "4396b753",
   "metadata": {},
   "outputs": [
    {
     "name": "stdout",
     "output_type": "stream",
     "text": [
      "d1 exists multiple keys\n"
     ]
    }
   ],
   "source": [
    "# Q. 39\n",
    "# Write a Python program to check multiple keys exists in a dictionary\n",
    "#ANS.\n",
    "\n",
    "d1 = {'a':1,'b':2,'c':3,'d':4}\n",
    "l1 = []\n",
    "\n",
    "for i in d1:\n",
    "    l1 += i,\n",
    "if len(l1) > 1 :\n",
    "    print('d1 exists multiple keys')\n",
    "else :\n",
    "    print('d1 exists onley one key')\n",
    "    \n"
   ]
  },
  {
   "cell_type": "code",
   "execution_count": 56,
   "id": "f9f42274",
   "metadata": {},
   "outputs": [
    {
     "name": "stdout",
     "output_type": "stream",
     "text": [
      "{'a': 1, 'b': 2, 'c': 3, 'd': 4}\n"
     ]
    }
   ],
   "source": [
    "# Q. 40\n",
    "# Write a Python script to merge two Python dictionaries\n",
    "#ANS.\n",
    "\n",
    "d1 = {'a':1,'b':2}\n",
    "d2 = {'c':3,'d':4}\n",
    "d1.update(d2)\n",
    "print(d1)"
   ]
  },
  {
   "cell_type": "code",
   "execution_count": 51,
   "id": "617d677a",
   "metadata": {},
   "outputs": [
    {
     "name": "stdout",
     "output_type": "stream",
     "text": [
      "{1: 6, 2: 6, 3: 6, 6: 6, 4: 6, 5: 6}\n"
     ]
    }
   ],
   "source": [
    "# Q. 41\n",
    "# Write a Python program to map two lists into a dictionary\n",
    "#ANS.\n",
    "\n",
    "l1 = [1,2,3,6,4,5]\n",
    "l2 = [1,2,3,4,5,6]\n",
    "dict = {}\n",
    "\n",
    "for i in l1 :\n",
    "    a = {}\n",
    "    for j in l2 :\n",
    "        pass\n",
    "    a.setdefault(i,j)\n",
    "    dict.update(a)\n",
    "print(dict)"
   ]
  },
  {
   "cell_type": "code",
   "execution_count": 26,
   "id": "ddc68cf8",
   "metadata": {},
   "outputs": [
    {
     "name": "stdout",
     "output_type": "stream",
     "text": [
      "{'a': 400, 'b': 400, 'c': 300, 'd': 400}\n"
     ]
    }
   ],
   "source": [
    "# Q. 42\n",
    "# Write a Python program to combine two dictionary adding values for common keys.\n",
    "#  d1 = {'a': 100, 'b': 200, 'c':300}\n",
    "#  d2 = {'a': 300, 'b': 200,’d’:400}\n",
    "# Sample output: Counter ({'a': 400, 'b': 400,’d’: 400, 'c': 300}).\n",
    "#ANS.\n",
    "\n",
    "d1 = {'a': 100, 'b': 200, 'c':300}\n",
    "d2 = {'a': 300, 'b': 200,'d':400}\n",
    "d3 = {}\n",
    "\n",
    "for i in d1 :\n",
    "    if i in d2:\n",
    "        sum_val = d1[i] + d2[i]\n",
    "        d3.setdefault(i,sum_val)\n",
    "    else :\n",
    "        d3.setdefault(i,d1[i])\n",
    "for i in d2 :\n",
    "    if i in d1:\n",
    "        pass\n",
    "    else :\n",
    "        d3.setdefault(i,d2[i])        \n",
    "print(d3)"
   ]
  },
  {
   "cell_type": "code",
   "execution_count": 36,
   "id": "a9bc6ddf",
   "metadata": {},
   "outputs": [
    {
     "name": "stdout",
     "output_type": "stream",
     "text": [
      "[100, 200, 300]\n"
     ]
    }
   ],
   "source": [
    "# Q. 43\n",
    "# Write a Python program to print all unique values in a dictionary.\n",
    "#ANS.\n",
    "\n",
    "d1 = {'a': 100, 'b': 200, 'c':300, 'd':100}\n",
    "list_1 = []\n",
    "unique_value = []\n",
    "\n",
    "for i in d1:\n",
    "    a += d1.get(i),\n",
    "for b in a :\n",
    "    if b not in unique_value :\n",
    "        unique_value.append(b)\n",
    "print(unique_value)"
   ]
  },
  {
   "cell_type": "code",
   "execution_count": 58,
   "id": "e4670054",
   "metadata": {},
   "outputs": [],
   "source": [
    "# Q. 44\n",
    "# Why Do You Use the Zip () Method in Python?\n",
    "#ANS.\n",
    "    # To combine a value in one veriable , this value data type is tuple."
   ]
  },
  {
   "cell_type": "code",
   "execution_count": 17,
   "id": "9d0524b7",
   "metadata": {},
   "outputs": [
    {
     "name": "stdout",
     "output_type": "stream",
     "text": [
      "ac\n",
      "ad\n",
      "bc\n",
      "bd\n"
     ]
    }
   ],
   "source": [
    "# Q. 45\n",
    "# Write a Python program to create and display all combinations of letters,selecting each letter from a different key in a dictionary.\n",
    "# o Sample data: {'1': ['a','b'], '2': ['c','d']}\n",
    "# o Expected Output:\n",
    "# o ac ad bc bd\n",
    "#ANS.\n",
    "\n",
    "dict = {'1': ['a','b'], '2': ['c','d']}\n",
    "list1 = []\n",
    "list2 = []\n",
    "str1 = ''\n",
    "\n",
    "list1 = dict.get('1')\n",
    "list2 = dict.get('2')\n",
    "\n",
    "for i in list1 :\n",
    "    str1 = i\n",
    "    str2 = ''\n",
    "    for k in list2 :\n",
    "        str2 = str1 + k\n",
    "        print(str2)\n",
    "        \n"
   ]
  },
  {
   "cell_type": "code",
   "execution_count": 48,
   "id": "b3214b5b",
   "metadata": {},
   "outputs": [
    {
     "name": "stdout",
     "output_type": "stream",
     "text": [
      "[101, 100, 60]\n"
     ]
    }
   ],
   "source": [
    "# Q. 46\n",
    "# Write a Python program to find the highest 3 values in a dictionary\n",
    "#ANS.\n",
    "\n",
    "dict1 = {'a':50, 'b':30, 'c':40, 'd':60, 'e':100, 'f':'abhi', 'g':101, 'h':[1,2,5]}\n",
    "a = []\n",
    "for i in dict1:\n",
    "    if type(dict1.get(i))  == int:\n",
    "        a += dict1.get(i),\n",
    "a.sort()\n",
    "print(a[-1:-4:-1])\n"
   ]
  },
  {
   "cell_type": "code",
   "execution_count": 72,
   "id": "6012b96f",
   "metadata": {},
   "outputs": [
    {
     "name": "stdout",
     "output_type": "stream",
     "text": [
      "{'item1': 400, 'item2': 300}\n"
     ]
    }
   ],
   "source": [
    "# Q. 47\n",
    "# Write a Python program to combine values in python list of dictionaries. \n",
    "# Sample data: [{'item': 'item1', 'amount': 400}, {'item': 'item2', 'amount': \n",
    "# 300},\n",
    "# o {'item': 'item1', 'amount': 750}]\n",
    "# o Expected Output: Counter ({'item1': 1150, 'item2': 300})\n",
    "#ANS.\n",
    " \n",
    "big_list = [{'item': 'item1', 'amount': 400}, {'item': 'item2', 'amount': 300}]\n",
    "dict = {}\n",
    "dict1 = {}\n",
    "\n",
    "for i in big_list :\n",
    "    dict1.update(i)\n",
    "    list1 = []\n",
    "    for k in dict1:\n",
    "        list1 += dict1.get(k),\n",
    "    l1 = list1[:(len(list1)//2)]\n",
    "    l2 = list1[(len(list1)//2):]\n",
    "    for i in l1 :\n",
    "        a = {}\n",
    "        for j in l2 :\n",
    "            pass\n",
    "        a.setdefault(i,j)\n",
    "        dict.update(a)\n",
    "print(dict)"
   ]
  },
  {
   "cell_type": "code",
   "execution_count": 74,
   "id": "2e9e4677",
   "metadata": {},
   "outputs": [
    {
     "name": "stdout",
     "output_type": "stream",
     "text": [
      "{'w': 1, '3': 1, 'r': 1, 'e': 1, 's': 1, 'o': 1, 'u': 1, 'c': 1}\n"
     ]
    }
   ],
   "source": [
    "# Q. 48\n",
    "#  Write a Python program to create a dictionary from a string.Note: Track the count of the letters from the string. Sample string:\n",
    "# 'w3resource'\n",
    "# o Expected output: {'3': 1,’s’: 1, 'r': 2, 'u': 1, 'w': 1, 'c': 1, 'e': 2, 'o': 1}\n",
    "#ANS.\n",
    "\n",
    "str1 = 'w3resource'\n",
    "dict1 = {}\n",
    "\n",
    "for i in str1:\n",
    "    dict1.setdefault(i,1)\n",
    "print(dict1)\n",
    "    "
   ]
  },
  {
   "cell_type": "code",
   "execution_count": 11,
   "id": "44343501",
   "metadata": {},
   "outputs": [
    {
     "data": {
      "text/plain": [
       "120"
      ]
     },
     "execution_count": 11,
     "metadata": {},
     "output_type": "execute_result"
    }
   ],
   "source": [
    "# Q. 49\n",
    "# Write a Python function to calculate the factorial of a number (a non\u0002negative integer)\n",
    "#ANS.\n",
    "\n",
    "def factorial(x) :\n",
    "    if x <= 1 :\n",
    "        return (1)\n",
    "    else:\n",
    "        return (x * factorial(x-1))\n",
    "factorial(5)"
   ]
  },
  {
   "cell_type": "code",
   "execution_count": 79,
   "id": "38357c46",
   "metadata": {},
   "outputs": [
    {
     "name": "stdout",
     "output_type": "stream",
     "text": [
      "50\n"
     ]
    },
    {
     "data": {
      "text/plain": [
       "'number is in the range'"
      ]
     },
     "execution_count": 79,
     "metadata": {},
     "output_type": "execute_result"
    }
   ],
   "source": [
    "# Q. 50\n",
    "# Write a Python function to check whether a number is in a given range\n",
    "#ANS.\n",
    "\n",
    "input_num = int(input())\n",
    "def num_check(x):\n",
    "    if x in range(1,101):\n",
    "        return 'number is in the range'\n",
    "    else :\n",
    "        return 'number is not in the range'\n",
    "num_check(input_num)"
   ]
  },
  {
   "cell_type": "code",
   "execution_count": 86,
   "id": "e69af0b2",
   "metadata": {},
   "outputs": [
    {
     "data": {
      "text/plain": [
       "'number is perfect'"
      ]
     },
     "execution_count": 86,
     "metadata": {},
     "output_type": "execute_result"
    }
   ],
   "source": [
    "# Q. 51\n",
    "# Write a Python function to check whether a number is perfect or not.\n",
    "#ANS.\n",
    "\n",
    "def num (x):\n",
    "    if type(x) == int:\n",
    "        return 'number is perfect'\n",
    "    else :\n",
    "        return 'number is not perfect'\n",
    "num(50)"
   ]
  },
  {
   "cell_type": "code",
   "execution_count": 103,
   "id": "7f8cf21e",
   "metadata": {},
   "outputs": [
    {
     "data": {
      "text/plain": [
       "'string is palindrome string'"
      ]
     },
     "execution_count": 103,
     "metadata": {},
     "output_type": "execute_result"
    }
   ],
   "source": [
    "# Q. 52\n",
    "# Write a Python function that checks whether a passed string is palindrome or not\n",
    "#ANS.\n",
    "\n",
    "def str_check (x):\n",
    "    if x[::] == x [-1::-1]:\n",
    "        return 'string is palindrome string'\n",
    "    else :\n",
    "        return 'string is not palindrome string'\n",
    "\n",
    "str_check('nayan')\n",
    "    "
   ]
  },
  {
   "cell_type": "code",
   "execution_count": 104,
   "id": "9f688ff7",
   "metadata": {},
   "outputs": [],
   "source": [
    "# Q. 53\n",
    "# How do you perform pattern matching in Python? Explain\n",
    "#ANS.\n",
    "#     we can match pattern useing with  conditional statements.\n",
    "    "
   ]
  },
  {
   "cell_type": "code",
   "execution_count": 105,
   "id": "d0d02ba4",
   "metadata": {},
   "outputs": [],
   "source": [
    "# Q. 54\n",
    "# What is lambda function in python? What we call a function which is incomplete version of a function?\n",
    "#ANS.\n",
    "#     lambda function is multtple perameters but single expression return."
   ]
  },
  {
   "cell_type": "code",
   "execution_count": 106,
   "id": "a9088685",
   "metadata": {},
   "outputs": [],
   "source": [
    "# Q. 55\n",
    "# How Many Basic Types Of Functions Are Available In Python?\n",
    "#ANS.\n",
    "#     There are three basic types of functions \n",
    "#     (1) built_in function\n",
    "#     (2) user difined\n",
    "#     (3) anonymous"
   ]
  },
  {
   "cell_type": "code",
   "execution_count": 107,
   "id": "4e96cb84",
   "metadata": {},
   "outputs": [],
   "source": [
    "# Q. 56\n",
    "# How can you pick a random item from a list or tuple?\n",
    "#ANS.\n",
    "#     import rendom function and use  rendom.choice()  metode."
   ]
  },
  {
   "cell_type": "code",
   "execution_count": 108,
   "id": "0b35e326",
   "metadata": {},
   "outputs": [],
   "source": [
    "# Q. 57\n",
    "# How can you pick a random item from a range?\n",
    "#ANS.\n",
    "#     import rendom function and use rendrange() method."
   ]
  },
  {
   "cell_type": "code",
   "execution_count": 109,
   "id": "82097d7d",
   "metadata": {},
   "outputs": [],
   "source": [
    "# Q. 58\n",
    "# How can you get a random number in python?\n",
    "#ANS.\n",
    "#     we can a rendom number use with rendint() method."
   ]
  },
  {
   "cell_type": "code",
   "execution_count": 110,
   "id": "9302a58b",
   "metadata": {},
   "outputs": [],
   "source": [
    "# Q. 59\n",
    "# How will you set the starting value in generating random numbers?\n",
    "#ANS.\n",
    "#     import rendom function and use seed() method."
   ]
  },
  {
   "cell_type": "code",
   "execution_count": 111,
   "id": "9937afc3",
   "metadata": {},
   "outputs": [],
   "source": [
    "# Q. 60\n",
    "# How will you randomizes the items of a list in place?\n",
    "#ANS.\n",
    "#      we could randomizes the items use of shuffle() method."
   ]
  },
  {
   "cell_type": "code",
   "execution_count": 1,
   "id": "9b113313",
   "metadata": {},
   "outputs": [
    {
     "name": "stdout",
     "output_type": "stream",
     "text": [
      "cow eats grassthere is a cow. /n cow eats grass\n"
     ]
    }
   ],
   "source": [
    "# Q. 61\n",
    "# Write a Python program to read a random line from a file.\n",
    "#ANS.\n",
    "import random\n",
    "lines = open('abhi.txt').read().splitlines()\n",
    "print (random.choice(lines))"
   ]
  },
  {
   "cell_type": "code",
   "execution_count": 2,
   "id": "a9f4dd34",
   "metadata": {},
   "outputs": [
    {
     "name": "stdout",
     "output_type": "stream",
     "text": [
      "10\n",
      "0.1746031746031746\n"
     ]
    }
   ],
   "source": [
    "# Q. 62\n",
    "# Write a Python program to convert degree to radian\n",
    "#ANS.\n",
    "pi=22/7\n",
    "degree = float(input())\n",
    "radian = degree*(pi/180)\n",
    "print(radian)"
   ]
  },
  {
   "cell_type": "code",
   "execution_count": 3,
   "id": "e5f485ba",
   "metadata": {},
   "outputs": [
    {
     "name": "stdout",
     "output_type": "stream",
     "text": [
      "6\n",
      "10\n",
      "5\n",
      "45.0\n"
     ]
    }
   ],
   "source": [
    "# Q. 63\n",
    "# Write a Python program to calculate the area of a trapezoid\n",
    "#ANS.\n",
    "height = float(input())\n",
    "base_1 = float(input())\n",
    "base_2 = float(input())\n",
    "area = ((base_1 + base_2) / 2) * height\n",
    "print(area)"
   ]
  },
  {
   "cell_type": "code",
   "execution_count": 4,
   "id": "75765b2a",
   "metadata": {},
   "outputs": [
    {
     "name": "stdout",
     "output_type": "stream",
     "text": [
      "10\n",
      "20\n",
      "200.0\n"
     ]
    }
   ],
   "source": [
    "# Q. 64\n",
    "# Write a Python program to calculate the area of a parallelogram\n",
    "#ANS.\n",
    "base = float(input())\n",
    "height = float(input())\n",
    "area = base * height\n",
    "print(area)"
   ]
  },
  {
   "cell_type": "code",
   "execution_count": 5,
   "id": "d252fe15",
   "metadata": {},
   "outputs": [
    {
     "name": "stdout",
     "output_type": "stream",
     "text": [
      "20\n",
      "10\n",
      "6285.714285714285 volume\n",
      "1885.7142857142858 area\n"
     ]
    }
   ],
   "source": [
    "# Q. 65\n",
    "# Write a Python program to calculate surface volume and area of a cylinder\n",
    "#ANS.\n",
    "pi=22/7\n",
    "height = float(input())\n",
    "radian = float(input())\n",
    "volume = pi * radian * radian * height\n",
    "sur_area = ((2*pi*radian) * height) + ((pi*radian**2)*2)\n",
    "print(volume,'volume')\n",
    "print(sur_area,'area')\n"
   ]
  },
  {
   "cell_type": "code",
   "execution_count": 6,
   "id": "87015838",
   "metadata": {},
   "outputs": [
    {
     "name": "stdout",
     "output_type": "stream",
     "text": [
      "8\n"
     ]
    },
    {
     "data": {
      "text/plain": [
       "7"
      ]
     },
     "execution_count": 6,
     "metadata": {},
     "output_type": "execute_result"
    }
   ],
   "source": [
    "# Q. 66\n",
    "# Write a Python program to returns sum of all divisors of a number\n",
    "#ANS.\n",
    "def sum_div(number):\n",
    "    divisors = [1]\n",
    "    for i in range(2, number):\n",
    "        if (number % i)==0:\n",
    "            divisors.append(i)\n",
    "    return sum(divisors)\n",
    "sum_div(int(input()))"
   ]
  },
  {
   "cell_type": "code",
   "execution_count": 7,
   "id": "b27e7649",
   "metadata": {},
   "outputs": [
    {
     "name": "stdout",
     "output_type": "stream",
     "text": [
      "maximum:  7.25\n",
      "minimum:  0.04\n"
     ]
    }
   ],
   "source": [
    "# Q. 67\n",
    "# Write a Python program to find the maximum and minimum numbers from the specified decimal numbers.\n",
    "#ANS.\n",
    "from decimal import *\n",
    "data = list(map(Decimal, '2.45 2.69 2.45 3.45 2.00 0.04 7.25'.split()))\n",
    "print(\"maximum: \", max(data))\n",
    "print(\"minimum: \", min(data))"
   ]
  }
 ],
 "metadata": {
  "kernelspec": {
   "display_name": "Python 3 (ipykernel)",
   "language": "python",
   "name": "python3"
  },
  "language_info": {
   "codemirror_mode": {
    "name": "ipython",
    "version": 3
   },
   "file_extension": ".py",
   "mimetype": "text/x-python",
   "name": "python",
   "nbconvert_exporter": "python",
   "pygments_lexer": "ipython3",
   "version": "3.9.12"
  }
 },
 "nbformat": 4,
 "nbformat_minor": 5
}
